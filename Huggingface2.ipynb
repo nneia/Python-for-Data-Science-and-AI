{
 "cells": [
  {
   "cell_type": "code",
   "execution_count": null,
   "id": "ce48210e",
   "metadata": {},
   "outputs": [],
   "source": [
    "pip install transformers\n"
   ]
  },
  {
   "cell_type": "code",
   "execution_count": null,
   "id": "d8cb5950",
   "metadata": {},
   "outputs": [],
   "source": [
    "import pandas as pd\n",
    "from transformers import pipeline, AutoModelForQuestionAnswering, AutoTokenizer\n",
    "\n",
    "# Load the dataset\n",
    "dataset_path = r\"C:\\Users\\Bizhan\\Downloads\\Electric_Vehicle_Population_Data.csv\"\n",
    "df = pd.read_csv(dataset_path)\n",
    "\n",
    "# Concatenate relevant columns to create context\n",
    "context_columns = ['VIN (1-10)', 'County', 'City', 'State', 'Postal Code', 'Model Year', 'Make', 'Model',\n",
    "                   'Electric Vehicle Type', 'Clean Alternative Fuel Vehicle (CAFV) Eligibility', \n",
    "                   'Electric Range', 'Base MSRP', 'Legislative District', 'DOL Vehicle ID',\n",
    "                   'Vehicle Location', 'Electric Utility', '2020 Census Tract']\n",
    "contexts = df[context_columns].apply(lambda x: ' '.join(x.dropna().astype(str)), axis=1)\n",
    "\n",
    "# Load the question-answering model and tokenizer\n",
    "model_name = \"distilbert-base-cased-distilled-squad\"  # You can choose a different model if needed\n",
    "model = AutoModelForQuestionAnswering.from_pretrained(model_name)\n",
    "tokenizer = AutoTokenizer.from_pretrained(model_name)\n",
    "\n",
    "# Initialize the question answering pipeline\n",
    "qa_pipeline = pipeline('question-answering', model=model, tokenizer=tokenizer)\n",
    "\n",
    "# Ask a question for each context\n",
    "question = \"What was the most popular EV car brand in 2023?\"\n",
    "answers = [qa_pipeline(question=question, context=context) for context in contexts]\n",
    "\n",
    "# Print the answers\n",
    "for answer in answers:\n",
    "    print(f\"Answer: {answer['answer']}\")\n",
    "\n"
   ]
  },
  {
   "cell_type": "code",
   "execution_count": null,
   "id": "3868ac25",
   "metadata": {},
   "outputs": [],
   "source": []
  }
 ],
 "metadata": {
  "kernelspec": {
   "display_name": "Python 3 (ipykernel)",
   "language": "python",
   "name": "python3"
  },
  "language_info": {
   "codemirror_mode": {
    "name": "ipython",
    "version": 3
   },
   "file_extension": ".py",
   "mimetype": "text/x-python",
   "name": "python",
   "nbconvert_exporter": "python",
   "pygments_lexer": "ipython3",
   "version": "3.9.7"
  }
 },
 "nbformat": 4,
 "nbformat_minor": 5
}
