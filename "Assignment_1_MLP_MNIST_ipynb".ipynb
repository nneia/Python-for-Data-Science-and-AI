{
  "cells": [
    {
      "cell_type": "markdown",
      "metadata": {
        "id": "view-in-github",
        "colab_type": "text"
      },
      "source": [
        "<a href=\"https://colab.research.google.com/github/nneia/Python-for-Data-Science-and-AI/blob/main/%22Assignment_1_MLP_MNIST_ipynb%22.ipynb\" target=\"_parent\"><img src=\"https://colab.research.google.com/assets/colab-badge.svg\" alt=\"Open In Colab\"/></a>"
      ]
    },
    {
      "cell_type": "markdown",
      "metadata": {
        "id": "EAeNOIEQeGNB"
      },
      "source": [
        "# MNIST classification using MLP"
      ]
    },
    {
      "cell_type": "markdown",
      "metadata": {
        "id": "QzwczfpDeGND"
      },
      "source": [
        "The goal of this exercise is to train a simple MLP on the MNIST digit classification dataset, the \"Hello World!\" of machine learning. MNIST was created by Yann LeCun to benchmark supervised learning algorithms. State-of the art is at 99.7% accuracy on the test set (using convolutional deep networks).\n",
        "\n",
        "Here is a link of a good video for your reference: https://www.youtube.com/watch?v=7YaqzpitBXw\n",
        "\n",
        "In MNIST, each input is a 28x28 grayscale image representing digits between 0 and 9. The training set has 60.000 examples, the test set 10.000.\n",
        "\n",
        "Instead of programming explicitly the MLP like in the previous exercise, we will now use **Keras** <https://keras.io>, a high-level API to **tensorflow** <https://tensorflow.org>.\n",
        "\n",
        "You need first to install `tensorflow` 2.x if not done already. On Colab, tensorflow is already installed. Even if you are using Anaconda, it is recommended to install tensorflow with pip:\n",
        "\n",
        "```bash\n",
        "pip install tensorflow\n",
        "```"
      ]
    },
    {
      "cell_type": "code",
      "execution_count": 1,
      "metadata": {
        "colab": {
          "base_uri": "https://localhost:8080/"
        },
        "id": "DEclaBtkeGNF",
        "outputId": "dc67138c-6927-4321-b475-aa8e455bbeb1"
      },
      "outputs": [
        {
          "output_type": "stream",
          "name": "stdout",
          "text": [
            "2.14.0\n"
          ]
        }
      ],
      "source": [
        "import numpy as np\n",
        "import matplotlib.pyplot as plt\n",
        "\n",
        "import tensorflow as tf\n",
        "\n",
        "print(tf.__version__)"
      ]
    },
    {
      "cell_type": "markdown",
      "metadata": {
        "id": "4ToGTSaMeGNI"
      },
      "source": [
        "**Q:** Read the documentation of keras at <https://keras.io/api/> to get an overview of its structure."
      ]
    },
    {
      "cell_type": "markdown",
      "metadata": {
        "id": "C5YuCOs-eGNJ"
      },
      "source": [
        "## Basic model"
      ]
    },
    {
      "cell_type": "markdown",
      "metadata": {
        "id": "pRToVi8heGNJ"
      },
      "source": [
        "You are provided with a basic poor-performing keras model to get you started. The goal is to extend this model in order to obtain a satisfying accuracy on the test set."
      ]
    },
    {
      "cell_type": "markdown",
      "metadata": {
        "id": "Ud2H82Y3eGNJ"
      },
      "source": [
        "### Data preprocessing\n",
        "\n",
        "The first step is to download the MNIST dataset. You could download the raw data from different sources and process it, but that would take a while.\n",
        "\n",
        "Fortunately, keras comes with a utility to automatically download MNIST, split it into training and test set and create nice numpy arrays:"
      ]
    },
    {
      "cell_type": "code",
      "execution_count": 2,
      "metadata": {
        "colab": {
          "base_uri": "https://localhost:8080/"
        },
        "id": "PPGN40-1eGNJ",
        "outputId": "76e724ad-72a5-4650-b905-c4b5a9a51b0d"
      },
      "outputs": [
        {
          "output_type": "stream",
          "name": "stdout",
          "text": [
            "Downloading data from https://storage.googleapis.com/tensorflow/tf-keras-datasets/mnist.npz\n",
            "11490434/11490434 [==============================] - 1s 0us/step\n"
          ]
        }
      ],
      "source": [
        "(X_train, t_train), (X_test, t_test) = tf.keras.datasets.mnist.load_data()"
      ]
    },
    {
      "cell_type": "markdown",
      "metadata": {
        "id": "JkgXi3RCeGNJ"
      },
      "source": [
        "Have a look at the doc of `tf.keras.datasets` to see what other datasets you can simply use.\n",
        "\n",
        "**Q:** Print the shape of the four numpy arrays `(X_train, t_train), (X_test, t_test)` and visualize some training examples to better understand what you are going to work on."
      ]
    },
    {
      "cell_type": "code",
      "execution_count": 3,
      "metadata": {
        "colab": {
          "base_uri": "https://localhost:8080/",
          "height": 1000
        },
        "id": "dDEY60IIeGNK",
        "outputId": "b3ddb108-b98f-4972-a3ff-f72f4a38486e"
      },
      "outputs": [
        {
          "output_type": "stream",
          "name": "stdout",
          "text": [
            "Training data: (60000, 28, 28) (60000,)\n",
            "Test data: (10000, 28, 28) (10000,)\n",
            "x: [[  0   0   0   0   0   0   0   0   0   0   0   0   0   0   0   0   0   0\n",
            "    0   0   0   0   0   0   0   0   0   0]\n",
            " [  0   0   0   0   0   0   0   0   0   0   0   0   0   0   0   0   0   0\n",
            "    0   0   0   0   0   0   0   0   0   0]\n",
            " [  0   0   0   0   0   0   0   0   0   0   0   0   0   0   0   0   0   0\n",
            "    0   0   0   0   0   0   0   0   0   0]\n",
            " [  0   0   0   0   0   0   0   0   0   0   0   0   0   0   0   0   0   0\n",
            "    0   0   0   0   0   0   0   0   0   0]\n",
            " [  0   0   0   0   0   0   0   0   0   0   0   0   0   0  83 149   0   0\n",
            "    0   0   0   0   0   0   0   0   0   0]\n",
            " [  0   0   0   0   0   0   0   0   0   0   0   0   0   0 104 245   9   0\n",
            "    0   0   0   0   0   0   0   0   0   0]\n",
            " [  0   0   0   0   0   0   0   0   0   0   0   0   0   0  32 254  40   0\n",
            "    0   0   0   0   0   0   0   0   0   0]\n",
            " [  0   0   0   0   0   0   0  66  68   0   0   0   0   0  15 232 144   0\n",
            "    0   0   0   0   0   0   0   0   0   0]\n",
            " [  0   0   0   0   0   0   0 166 128   0   0   0   0   0   0 135 208   4\n",
            "    0   0   0   0   0   0   0   0   0   0]\n",
            " [  0   0   0   0   0   0   0 181 128   0   0   0   0   0   0  64 254  88\n",
            "    0   0   0   0   0   0   0   0   0   0]\n",
            " [  0   0   0   0   0   0   0 240 105   0   0   0   0   0   0  24 245 126\n",
            "    0   0   0   0   0   0   0   0   0   0]\n",
            " [  0   0   0   0   0   0   0 232  30   0   0   0   0   0   0   0 136 190\n",
            "    4   0   0   0   0   0   0   0   0   0]\n",
            " [  0   0   0   0   0   0  36 230   0   0   0   0   0   0   0   0  96 255\n",
            "   41   0   0   0   0   0   0   0   0   0]\n",
            " [  0   0   0   0   0   0  60 236   0   0   0   0   0   0   0   0  23 254\n",
            "   92   0   0   0   0   0   0   0   0   0]\n",
            " [  0   0   0   0   0   0 102 236   0   0   0   0   0  20   1  21  85 254\n",
            "   92   0   0   0   0   0   0   0   0   0]\n",
            " [  0   0   0   0   0   0 133 244 104 150 177 222 252 227 213 188 189 167\n",
            "  165   0   0   0   0   0   0   0   0   0]\n",
            " [  0   0   0   0   0   0  58 251 205 191 157 117  44   7   0   0   0 129\n",
            "  227   0   0   0   0   0   0   0   0   0]\n",
            " [  0   0   0   0   0   0   0  10   3   0   0   0   0   0   0   0   0 129\n",
            "  241   6   0   0   0   0   0   0   0   0]\n",
            " [  0   0   0   0   0   0   0   0   0   0   0   0   0   0   0   0   0 129\n",
            "  254  59   0   0   0   0   0   0   0   0]\n",
            " [  0   0   0   0   0   0   0   0   0   0   0   0   0   0   0   0   0 129\n",
            "  254  59   0   0   0   0   0   0   0   0]\n",
            " [  0   0   0   0   0   0   0   0   0   0   0   0   0   0   0   0   0 129\n",
            "  247  31   0   0   0   0   0   0   0   0]\n",
            " [  0   0   0   0   0   0   0   0   0   0   0   0   0   0   0   0   0 129\n",
            "  240   0   0   0   0   0   0   0   0   0]\n",
            " [  0   0   0   0   0   0   0   0   0   0   0   0   0   0   0   0   0 129\n",
            "  246  27   0   0   0   0   0   0   0   0]\n",
            " [  0   0   0   0   0   0   0   0   0   0   0   0   0   0   0   0   0  93\n",
            "  193   8   0   0   0   0   0   0   0   0]\n",
            " [  0   0   0   0   0   0   0   0   0   0   0   0   0   0   0   0   0   0\n",
            "    0   0   0   0   0   0   0   0   0   0]\n",
            " [  0   0   0   0   0   0   0   0   0   0   0   0   0   0   0   0   0   0\n",
            "    0   0   0   0   0   0   0   0   0   0]\n",
            " [  0   0   0   0   0   0   0   0   0   0   0   0   0   0   0   0   0   0\n",
            "    0   0   0   0   0   0   0   0   0   0]\n",
            " [  0   0   0   0   0   0   0   0   0   0   0   0   0   0   0   0   0   0\n",
            "    0   0   0   0   0   0   0   0   0   0]]\n",
            "x (shape): (28, 28)\n",
            "t: 4\n"
          ]
        },
        {
          "output_type": "display_data",
          "data": {
            "text/plain": [
              "<Figure size 500x500 with 2 Axes>"
            ],
            "image/png": "[encoded data removed]"
          },
          "metadata": {}
        }
      ],
      "source": [
        "print(\"Training data:\", X_train.shape, t_train.shape)\n",
        "print(\"Test data:\", X_test.shape, t_test.shape)\n",
        "\n",
        "idx = 682 # for example\n",
        "x = X_train[idx, :]\n",
        "t = t_train[idx]\n",
        "print(\"x:\", x)\n",
        "print(\"x (shape):\", x.shape)\n",
        "print(\"t:\", t)\n",
        "\n",
        "plt.figure(figsize=(5, 5))\n",
        "plt.imshow(x, cmap=\"gray\")\n",
        "plt.colorbar()\n",
        "plt.show()"
      ]
    },
    {
      "cell_type": "markdown",
      "metadata": {
        "id": "umqIobAXeGNK"
      },
      "source": [
        "In this exercise, we are going to use a regular MLP (with fully-connected layers). Convolutional layers will be seen next time.\n",
        "\n",
        "We therefore need to transform the 28x28 input matrix into a 784 vector. Additionally, pixel values are integers between 0 and 255. We have to rescale them to floating values in [0, 1]."
      ]
    },
    {
      "cell_type": "code",
      "execution_count": 4,
      "metadata": {
        "id": "9T-0ouMzeGNK"
      },
      "outputs": [],
      "source": [
        "X_train = X_train.reshape(X_train.shape[0], 784).astype('float32') / 255.\n",
        "X_test = X_test.reshape(X_test.shape[0], 784).astype('float32') / 255."
      ]
    },
    {
      "cell_type": "markdown",
      "metadata": {
        "id": "ZZX1y-7KeGNK"
      },
      "source": [
        "We saw in the last exercise that **mean removal** is crucial when training a neural network. The following cell removes the mean image of the training set from all examples."
      ]
    },
    {
      "cell_type": "code",
      "execution_count": 5,
      "metadata": {
        "colab": {
          "base_uri": "https://localhost:8080/",
          "height": 445
        },
        "id": "UlEaKhWEeGNK",
        "outputId": "5f35544e-adeb-475f-f635-311d6aaf9ace"
      },
      "outputs": [
        {
          "output_type": "display_data",
          "data": {
            "text/plain": [
              "<Figure size 500x500 with 1 Axes>"
            ],
            "image/png": "[encoded data removed]"
          },
          "metadata": {}
        }
      ],
      "source": [
        "X_mean = np.mean(X_train, axis=0)\n",
        "X_train -= X_mean\n",
        "X_test -= X_mean\n",
        "\n",
        "\n",
        "plt.figure(figsize=(5, 5))\n",
        "plt.imshow(X_mean.reshape((28, 28))*255, cmap=\"gray\")\n",
        "plt.show()"
      ]
    },
    {
      "cell_type": "markdown",
      "metadata": {
        "id": "YZqea4uHeGNL"
      },
      "source": [
        "The last preprocessing step is to perform **one-hot encoding** of the output labels. We want for example the digit 4 (index 5 in the outputs t) to be represented by the vector:\n",
        "\n",
        "[0. 0. 0. 0. 1. 0. 0. 0. 0. 0.]\n",
        "\n",
        "`keras` offers the utility `utils.to_categorical` to do that on the whole data:"
      ]
    },
    {
      "cell_type": "code",
      "execution_count": 6,
      "metadata": {
        "colab": {
          "base_uri": "https://localhost:8080/"
        },
        "id": "M_tdBgcCeGNL",
        "outputId": "d3080a70-32d5-4e82-bfb8-612e828e73d8"
      },
      "outputs": [
        {
          "output_type": "stream",
          "name": "stdout",
          "text": [
            "[0. 0. 0. 0. 1. 0. 0. 0. 0. 0.]\n"
          ]
        }
      ],
      "source": [
        "T_train = tf.keras.utils.to_categorical(t_train, 10)\n",
        "T_test = tf.keras.utils.to_categorical(t_test, 10)\n",
        "\n",
        "print(T_train[idx])"
      ]
    },
    {
      "cell_type": "markdown",
      "metadata": {
        "id": "YWmpE_4BeGNM"
      },
      "source": [
        "All set! The data is ready to be learned by a neural network. You should normally not have to re-run those cells again. If you do, do not forget to run all of them sequentially:"
      ]
    },
    {
      "cell_type": "markdown",
      "metadata": {
        "id": "daDr9nv_eGNM"
      },
      "source": [
        "### Model definition\n",
        "\n",
        "Let's now define a simple MLP with keras. When using a notebook, you can recreate models by simply re-running the cell, but this does not delete the previous networks which may end up filling your RAM. It is therefore good practice to start by telling tensorflow to delete all previous models (if this is what you want):\n",
        "\n",
        "```python\n",
        "tf.keras.backend.clear_session()\n",
        "```\n",
        "\n",
        "One way to define a neural network in keras is by stacking layers in a `Sequential()` model (you can later have a look at the doc of `Model()` for directed acyclic graphs).\n",
        "\n",
        "```python\n",
        "model = tf.keras.models.Sequential()\n",
        "```\n",
        "\n",
        "The input layer has 784 neurons, one per pixel in the input image. We only need to define a placeholder of the correct size to represent inputs and `add()` it to the model as its first layer:\n",
        "\n",
        "```python\n",
        "model.add(tf.keras.layers.Input(shape=(784,)))\n",
        "```\n",
        "\n",
        "The input layer goes into a hidden, fully-connected, layer of 100 neurons using the logistic (or sigmoid) transfer function This can be specified by adding to the model a `Dense` layer (in the sense \"fully-connected\") with 100 units (another name for neuron), followed by an `Activation` layer using the 'sigmoid' function:\n",
        "\n",
        "```python\n",
        "model.add(tf.keras.layers.Dense(units=100))\n",
        "model.add(tf.keras.layers.Activation('sigmoid'))\n",
        "```\n",
        "\n",
        "The weight matrix and the biases are intialized automatically using the Glorot uniform scheme (seen in the last exercise) for the weights and zeros for the biases. Check the doc of the `Dense` layer to see how to change this: <https://keras.io/layers/core/#dense>.\n",
        "\n",
        "We then add a softmax layer as output layer (classification problem), with 10 units (one per digit):\n",
        "\n",
        "```python\n",
        "model.add(tf.keras.layers.Dense(units=10))\n",
        "model.add(tf.keras.layers.Activation('softmax'))\n",
        "```\n",
        "\n",
        "Weights and biases are initialized in the same manner. That's all, keras now knows how to transform the input vector into class probabilities using randomly initialized weights!\n",
        "\n",
        "For training, we need to choose an optimizer (learning rule). Several optimizers are available (<https://keras.io/optimizers/>). We pick simply **Stochastic Gradient Descent** with a learning rate of 0.01:\n",
        "\n",
        "```python\n",
        "optimizer = tf.keras.optimizers.SGD(lr=0.01)\n",
        "```\n",
        "\n",
        "The last step is to **compile** the network, so that keras computes how to implement the backpropagation algorithm. You need to specify:\n",
        "\n",
        "1. which loss function you want to minimize. The full list is at <https://keras.io/losses/>. Here, we will use the cross-entropy loss function as we have a clasification problem with softmax outputs.\n",
        "2. which optimizer you want to use.\n",
        "3. which metrics (accuracy, error, etc. - <https://keras.io/metrics/>) you want to track during learning.\n",
        "\n",
        "After the call to `compile()`, the neural network is instantiated and ready to learn."
      ]
    },
    {
      "cell_type": "code",
      "execution_count": 8,
      "metadata": {
        "id": "LERCQExNeGNM"
      },
      "outputs": [],
      "source": [
        "# Delete all previous models to free memory\n",
        "tf.keras.backend.clear_session()\n",
        "\n",
        "# Sequential model\n",
        "model = tf.keras.models.Sequential()\n",
        "\n",
        "# Input layer representing the 784 pixels\n",
        "model.add(tf.keras.layers.Input(shape=(784,)))\n",
        "\n",
        "# Hidden layer with 100 logistic neurons\n",
        "model.add(tf.keras.layers.Dense(units=100))\n",
        "model.add(tf.keras.layers.Activation('sigmoid'))\n",
        "\n",
        "# Softmax output layer over 10 classes\n",
        "model.add(tf.keras.layers.Dense(units=10))\n",
        "model.add(tf.keras.layers.Activation('softmax'))\n",
        "\n",
        "# Learning rule\n",
        "optimizer = tf.keras.optimizers.SGD(learning_rate=0.01)\n",
        "\n",
        "# Loss function\n",
        "model.compile(\n",
        "    loss='categorical_crossentropy', # loss function\n",
        "    optimizer=optimizer, # learning rule\n",
        "    metrics=['accuracy'] # show accuracy\n",
        ")"
      ]
    },
    {
      "cell_type": "markdown",
      "metadata": {
        "id": "WTOBkrofeGNN"
      },
      "source": [
        "A good practice after creating the model is to call `model.summary()` to see how many layers you have created and how many parameters each layer has.\n",
        "\n",
        "**Q:** Explain why you obtain this numbers of parameters in each layer."
      ]
    },
    {
      "cell_type": "code",
      "execution_count": 9,
      "metadata": {
        "colab": {
          "base_uri": "https://localhost:8080/"
        },
        "id": "udfiTtIEeGNN",
        "outputId": "f49c1dbe-c543-464e-bf86-ef22e3b437fd"
      },
      "outputs": [
        {
          "output_type": "stream",
          "name": "stdout",
          "text": [
            "Model: \"sequential\"\n",
            "_________________________________________________________________\n",
            " Layer (type)                Output Shape              Param #   \n",
            "=================================================================\n",
            " dense (Dense)               (None, 100)               78500     \n",
            "                                                                 \n",
            " activation (Activation)     (None, 100)               0         \n",
            "                                                                 \n",
            " dense_1 (Dense)             (None, 10)                1010      \n",
            "                                                                 \n",
            " activation_1 (Activation)   (None, 10)                0         \n",
            "                                                                 \n",
            "=================================================================\n",
            "Total params: 79510 (310.59 KB)\n",
            "Trainable params: 79510 (310.59 KB)\n",
            "Non-trainable params: 0 (0.00 Byte)\n",
            "_________________________________________________________________\n",
            "None\n"
          ]
        }
      ],
      "source": [
        "print(model.summary())"
      ]
    },
    {
      "cell_type": "markdown",
      "metadata": {
        "id": "kU_SPaI9eGNN"
      },
      "source": [
        "**A:** the hidden layer has a weight matrix of size 784x100 and 100 biases, what makes 78500 free parameters. The output layer has a weight matrix of size 100x10 and 10 biases, so 1010 parameters.\n",
        "\n",
        "Note that we have more free parameters than training examples, we are going to have to regularize quite hard..."
      ]
    },
    {
      "cell_type": "markdown",
      "metadata": {
        "id": "jswoWx7qeGNN"
      },
      "source": [
        "### Model training\n",
        "\n",
        "Now is time to train the network on MNIST. The following cell creates a `History()` object that will record the progress of your network.\n",
        "\n",
        "It then calls the `model.fit()` method, which tells the network to learn the MNIST dataset defined by the `(X_train, Y_train)` arrays. You have to specify:\n",
        "\n",
        "1. the batch size, i.e. the number of training examples in each minibatch used by SGD.\n",
        "2. the maximal number of epochs for training\n",
        "3. the size of the validation, taken from the training set to track the progress (this is not the test set!). Here we reserve 10% of the training data to validate. If you do not have much data, you could set it to 0.\n",
        "4. a callback, which will be called at the end of each epoch. Here it will save the metrics defined in `model.compile()` in the `History()` object.\n",
        "\n",
        "The training process can take a while depending on how big your network is and how many data samples you have. You can interrupt the kernel using the menu if you want to stop the processing in the cell."
      ]
    },
    {
      "cell_type": "code",
      "execution_count": 10,
      "metadata": {
        "colab": {
          "base_uri": "https://localhost:8080/"
        },
        "id": "Vogemv8KeGNN",
        "outputId": "ea344a79-c6a5-4b60-8025-5d030c767e42"
      },
      "outputs": [
        {
          "output_type": "stream",
          "name": "stdout",
          "text": [
            "Epoch 1/20\n",
            "422/422 [==============================] - 2s 4ms/step - loss: 2.0921 - accuracy: 0.4424 - val_loss: 1.8312 - val_accuracy: 0.6797\n",
            "Epoch 2/20\n",
            "422/422 [==============================] - 2s 4ms/step - loss: 1.6394 - accuracy: 0.7102 - val_loss: 1.4153 - val_accuracy: 0.7808\n",
            "Epoch 3/20\n",
            "422/422 [==============================] - 2s 4ms/step - loss: 1.2965 - accuracy: 0.7673 - val_loss: 1.1144 - val_accuracy: 0.8257\n",
            "Epoch 4/20\n",
            "422/422 [==============================] - 2s 4ms/step - loss: 1.0596 - accuracy: 0.7988 - val_loss: 0.9128 - val_accuracy: 0.8480\n",
            "Epoch 5/20\n",
            "422/422 [==============================] - 2s 5ms/step - loss: 0.9013 - accuracy: 0.8179 - val_loss: 0.7776 - val_accuracy: 0.8617\n",
            "Epoch 6/20\n",
            "422/422 [==============================] - 3s 7ms/step - loss: 0.7930 - accuracy: 0.8324 - val_loss: 0.6837 - val_accuracy: 0.8710\n",
            "Epoch 7/20\n",
            "422/422 [==============================] - 2s 4ms/step - loss: 0.7157 - accuracy: 0.8427 - val_loss: 0.6153 - val_accuracy: 0.8775\n",
            "Epoch 8/20\n",
            "422/422 [==============================] - 2s 4ms/step - loss: 0.6581 - accuracy: 0.8507 - val_loss: 0.5641 - val_accuracy: 0.8832\n",
            "Epoch 9/20\n",
            "422/422 [==============================] - 2s 4ms/step - loss: 0.6136 - accuracy: 0.8571 - val_loss: 0.5239 - val_accuracy: 0.8885\n",
            "Epoch 10/20\n",
            "422/422 [==============================] - 2s 4ms/step - loss: 0.5782 - accuracy: 0.8623 - val_loss: 0.4922 - val_accuracy: 0.8932\n",
            "Epoch 11/20\n",
            "422/422 [==============================] - 2s 4ms/step - loss: 0.5493 - accuracy: 0.8663 - val_loss: 0.4660 - val_accuracy: 0.8965\n",
            "Epoch 12/20\n",
            "422/422 [==============================] - 2s 4ms/step - loss: 0.5254 - accuracy: 0.8706 - val_loss: 0.4442 - val_accuracy: 0.8990\n",
            "Epoch 13/20\n",
            "422/422 [==============================] - 2s 6ms/step - loss: 0.5052 - accuracy: 0.8735 - val_loss: 0.4260 - val_accuracy: 0.9018\n",
            "Epoch 14/20\n",
            "422/422 [==============================] - 3s 6ms/step - loss: 0.4879 - accuracy: 0.8758 - val_loss: 0.4105 - val_accuracy: 0.9028\n",
            "Epoch 15/20\n",
            "422/422 [==============================] - 2s 5ms/step - loss: 0.4729 - accuracy: 0.8785 - val_loss: 0.3970 - val_accuracy: 0.9040\n",
            "Epoch 16/20\n",
            "422/422 [==============================] - 3s 6ms/step - loss: 0.4598 - accuracy: 0.8803 - val_loss: 0.3853 - val_accuracy: 0.9055\n",
            "Epoch 17/20\n",
            "422/422 [==============================] - 2s 6ms/step - loss: 0.4484 - accuracy: 0.8824 - val_loss: 0.3751 - val_accuracy: 0.9070\n",
            "Epoch 18/20\n",
            "422/422 [==============================] - 2s 5ms/step - loss: 0.4382 - accuracy: 0.8840 - val_loss: 0.3660 - val_accuracy: 0.9088\n",
            "Epoch 19/20\n",
            "422/422 [==============================] - 2s 5ms/step - loss: 0.4291 - accuracy: 0.8855 - val_loss: 0.3579 - val_accuracy: 0.9100\n",
            "Epoch 20/20\n",
            "422/422 [==============================] - 3s 7ms/step - loss: 0.4208 - accuracy: 0.8871 - val_loss: 0.3507 - val_accuracy: 0.9107\n"
          ]
        },
        {
          "output_type": "execute_result",
          "data": {
            "text/plain": [
              "<keras.src.callbacks.History at 0x7ae448094d60>"
            ]
          },
          "metadata": {},
          "execution_count": 10
        }
      ],
      "source": [
        "# History tracks the evolution of the metrics during learning\n",
        "history = tf.keras.callbacks.History()\n",
        "\n",
        "# Training procedure\n",
        "model.fit(\n",
        "    X_train, T_train, # training data\n",
        "    batch_size=128,  # batch size\n",
        "    epochs=20, # Maximum number of epochs\n",
        "    validation_split=0.1, # Perceptage of training data used for validation\n",
        "    callbacks=[history] # Track the metrics at the end of each epoch\n",
        ")"
      ]
    },
    {
      "cell_type": "markdown",
      "metadata": {
        "id": "_s590wmieGNO"
      },
      "source": [
        "The training has now run for 20 epochs on the training set. You see the evolution of loss function and accuracy for both the training and validation sets.\n",
        "\n",
        "To test your trained model on the test set, you can call `model.evaluate()`:"
      ]
    },
    {
      "cell_type": "code",
      "execution_count": 11,
      "metadata": {
        "colab": {
          "base_uri": "https://localhost:8080/"
        },
        "id": "6vVhwtrbeGNO",
        "outputId": "fcce9704-c839-45cd-e324-9c0b4c18ed0c"
      },
      "outputs": [
        {
          "output_type": "stream",
          "name": "stdout",
          "text": [
            "Test loss: 0.3947528898715973\n",
            "Test accuracy: 0.8962000012397766\n"
          ]
        }
      ],
      "source": [
        "score = model.evaluate(X_test, T_test, verbose=0)\n",
        "\n",
        "print('Test loss:', score[0])\n",
        "print('Test accuracy:', score[1])"
      ]
    },
    {
      "cell_type": "markdown",
      "metadata": {
        "id": "XJhUN1xjeGNO"
      },
      "source": [
        "You can also use the `History()` object to visualize the evolution of the the training and validation accuracy during learning."
      ]
    },
    {
      "cell_type": "code",
      "execution_count": 12,
      "metadata": {
        "colab": {
          "base_uri": "https://localhost:8080/",
          "height": 542
        },
        "id": "dJEEsrNseGNO",
        "outputId": "58a04e69-5253-4725-aa9d-115500326bbc"
      },
      "outputs": [
        {
          "output_type": "display_data",
          "data": {
            "text/plain": [
              "<Figure size 1500x600 with 2 Axes>"
            ],
            "image/png": "[encoded data removed]"
          },
          "metadata": {}
        }
      ],
      "source": [
        "plt.figure(figsize=(15, 6))\n",
        "\n",
        "plt.subplot(121)\n",
        "plt.plot(history.history['loss'], '-r', label=\"Training\")\n",
        "plt.plot(history.history['val_loss'], '-b', label=\"Validation\")\n",
        "plt.xlabel('Epoch #')\n",
        "plt.ylabel('Loss')\n",
        "plt.legend()\n",
        "\n",
        "plt.subplot(122)\n",
        "plt.plot(history.history['accuracy'], '-r', label=\"Training\")\n",
        "plt.plot(history.history['val_accuracy'], '-b', label=\"Validation\")\n",
        "plt.xlabel('Epoch #')\n",
        "plt.ylabel('Accuracy')\n",
        "plt.legend()\n",
        "\n",
        "plt.show()"
      ]
    },
    {
      "cell_type": "markdown",
      "source": [
        "# Assignments\n",
        "\n",
        "* Answer the following questions:\n",
        "* The deadline is December 12th. Please bring your solutions to class."
      ],
      "metadata": {
        "id": "kcg0WH1WhEai"
      }
    },
    {
      "cell_type": "markdown",
      "metadata": {
        "id": "kwFW-akSeGNP"
      },
      "source": [
        "**Q:** Did overfitting occur during learning? Why? Looking at the curves, does it make sense to continue learning for much more epochs?"
      ]
    },
    {
      "cell_type": "markdown",
      "source": [
        "Answer\n",
        "\n",
        "```\n",
        "So, overfitting means if model performs well on the training data\n",
        "but fails to generalize to unseen data. In this case, the model's training\n",
        "accuracy continues to improve, but the validation accuracy plateaus,\n",
        "indicating a potential overfitting situation.\n",
        "\n",
        "I think around Epoch 15 the validation accuracy stops improving, suggesting\n",
        "that further training may not significantly benefit model performance on\n",
        "unseen data. Continuing learning for many more epochs may lead to\n",
        "overfitting, where the model will become too specialized to the training\n",
        "data and not good for generalization.\n",
        "\n",
        "```\n",
        "\n",
        "\n"
      ],
      "metadata": {
        "id": "0zV7bEsPhTu7"
      }
    },
    {
      "cell_type": "markdown",
      "metadata": {
        "id": "6Oi842C4eGNP"
      },
      "source": [
        "The following cell makes predictions on the test set (`model.predict(X_test)`), computes the predicted classes by looking at the maximum probability for each example and displays some misclassified examples. The title of each subplot denotes the predicted class and the ground truth.\n",
        "\n",
        "**Q:** Are some mistakes understandable?"
      ]
    },
    {
      "cell_type": "code",
      "execution_count": 13,
      "metadata": {
        "colab": {
          "base_uri": "https://localhost:8080/",
          "height": 679
        },
        "id": "effmhUjSeGNP",
        "outputId": "1db5277f-fbbd-4e2c-d4da-845722f5c49e"
      },
      "outputs": [
        {
          "output_type": "stream",
          "name": "stdout",
          "text": [
            "313/313 [==============================] - 1s 2ms/step\n"
          ]
        },
        {
          "output_type": "display_data",
          "data": {
            "text/plain": [
              "<Figure size 1000x800 with 12 Axes>"
            ],
            "image/png": "[encoded data removed]"
          },
          "metadata": {}
        }
      ],
      "source": [
        "Y_test = model.predict(X_test)\n",
        "c_test = np.argmax(Y_test, axis=-1)\n",
        "\n",
        "misclassification = (c_test != t_test).nonzero()[0]\n",
        "\n",
        "plt.figure(figsize=(10, 8))\n",
        "for i in range(12):\n",
        "    plt.subplot(3, 4, i+1)\n",
        "    plt.imshow((X_test[misclassification[i], :] + X_mean).reshape((28, 28)), cmap=plt.cm.gray, interpolation='nearest')\n",
        "    plt.title('P = ' + str(c_test[misclassification[i]]) + ' ; T = ' + str(t_test[misclassification[i]]))\n",
        "    plt.xticks([]); plt.yticks([])\n",
        "plt.show()"
      ]
    },
    {
      "cell_type": "markdown",
      "source": [
        "Answer\n",
        "\n",
        "```\n",
        "Well, if the question is wether I can understand some of the ground truth results, then yes.\n",
        "For example numbers: 4, 1, 9, 3, 6, 2, 9, 2 are understandable.\n",
        "However, some of them might look confusing, in first example, it can be read as either 6 or 5, same with examples 9,10 and 11.\n",
        "Ex 9: can either be 1 or 7\n",
        "Ex 10: can be 4 or 7 or 1\n",
        "Ex 11: can be 2 or 9\n",
        "\n",
        "\n",
        "\n",
        "\n",
        "\n",
        "\n",
        "```\n"
      ],
      "metadata": {
        "id": "IEgGwoELhob1"
      }
    },
    {
      "cell_type": "markdown",
      "metadata": {
        "id": "JIJ5urpMeGNP"
      },
      "source": [
        "## Questions\n",
        "\n",
        "With the provided model, you probably obtained a final accuracy on the test set around 90%.  The state-of-the-art performance is 99.7%.\n",
        "\n",
        "The goal of this exercise is now to modify the network in order to obtain an accuracy of **98%** (or more) in 20 epochs only.\n",
        "\n",
        "You are free to use any improvement on the basic model, using the doc of Keras. Here are some suggestions:\n",
        "\n",
        "* Change the learning rate of SGD.\n",
        "\n",
        "* Change the number of neurons in the hidden layer.\n",
        "\n",
        "* Change the number of hidden layers (just stack another `Dense` layer in the model).\n",
        "\n",
        "**Beware:** you do not have weeks in front of you (the deadline is 12 December), so keep the complexity of your model in a reasonable range by doing the following:\n",
        "\n",
        "* Change the transfer function of the hidden neurons. See <https://keras.io/activations/> for the different possibilities in `keras`. Check in particular the Rectifier Linear Unit (ReLU).\n",
        "\n",
        "* Change the learning rule. Instead of the regular SGD, use for example the Nesterov Momentum method:\n",
        "\n",
        "```python\n",
        "optimizer = tf.keras.optimizers.SGD(lr=0.1, decay=1e-6, momentum=0.9, nesterov=True)\n",
        "```\n",
        "\n",
        "or the Adam learning rule:\n",
        "\n",
        "```python\n",
        "optimizer = tf.keras.optimizers.Adam(lr=0.01)\n",
        "```\n",
        "\n",
        "* Change the batch size. What impact does it have on training time?\n",
        "\n",
        "* Apply **L2- or L1-regularization** to the weight updates to avoid overfitting <https://keras.io/regularizers/>:\n",
        "\n",
        "```python\n",
        "model.add(tf.keras.layers.Dense(50, kernel_regularizer=tf.keras.regularizers.l2(0.0001)))\n",
        "```\n",
        "\n",
        "* Apply **dropout** regularization after each layer. Find a good level of dropout.\n",
        "\n",
        "```python\n",
        "model.add(tf.keras.layers.Dropout(0.5))\n",
        "```\n",
        "\n",
        "* Add **Batch normalization** between the fully-connected layer and the transfer function.\n",
        "\n",
        "```python\n",
        "model.add(tf.keras.layers.Dense(100)) # Weights\n",
        "model.add(tf.keras.layers.BatchNormalization()) # Batch normalization\n",
        "model.add(tf.keras.layers.Activation('relu')) # Transfer function\n",
        "```"
      ]
    },
    {
      "cell_type": "markdown",
      "source": [
        "Answer\n",
        "\n",
        "```\n",
        "\n",
        "\n",
        "\n",
        "\n",
        "\n",
        "\n",
        "\n",
        "\n",
        "\n",
        "\n",
        "\n",
        "\n",
        "\n",
        "```\n"
      ],
      "metadata": {
        "id": "b5t8XxVhhpuo"
      }
    },
    {
      "cell_type": "code",
      "source": [
        "import tensorflow as tf\n",
        "from tensorflow.keras import layers, models, optimizers, regularizers\n",
        "import matplotlib.pyplot as plt\n",
        "import numpy as np\n",
        "\n",
        "# Load the MNIST dataset\n",
        "(X_train, T_train), (X_test, T_test) = tf.keras.datasets.mnist.load_data()\n",
        "X_train = X_train.reshape((60000, 28 * 28)).astype('float32') / 255\n",
        "X_test = X_test.reshape((10000, 28 * 28)).astype('float32') / 255\n",
        "T_train = tf.keras.utils.to_categorical(T_train, 10)\n",
        "T_test = tf.keras.utils.to_categorical(T_test, 10)\n",
        "\n",
        "# Define the model\n",
        "tf.keras.backend.clear_session()\n",
        "\n",
        "model = models.Sequential()\n",
        "\n",
        "\n",
        "model.add(layers.Input(shape=(784,)))# Input layer representing the 784 pixels\n",
        "model.add(layers.Dense(units=128, activation='relu')) # Hidden layer with 128 ReLU neurons\n",
        "model.add(layers.Dropout(0.5)) # Dropout regularization\n",
        "model.add(layers.BatchNormalization()) # Batch normalization\n",
        "model.add(layers.Dense(units=10, activation='softmax')) # Output layer with 10 softmax neurons\n",
        "\n",
        "# Learning rule - Adam optimizer\n",
        "optimizer = optimizers.Adam(learning_rate=0.001)\n",
        "\n",
        "# Loss function - Categorical Crossentropy\n",
        "model.compile(\n",
        "    loss='categorical_crossentropy',\n",
        "    optimizer=optimizer,\n",
        "    metrics=['accuracy']\n",
        ")\n",
        "\n",
        "# History to track metrics during training\n",
        "history = model.fit(\n",
        "    X_train, T_train,\n",
        "    batch_size=128,\n",
        "    epochs=20,\n",
        "    validation_split=0.1,\n",
        "    callbacks=[tf.keras.callbacks.History()]\n",
        ")\n",
        "\n",
        "# Evaluate the model on the test set\n",
        "test_loss, test_accuracy = model.evaluate(X_test, T_test)\n",
        "print(\"\\nTest loss:\", test_loss)\n",
        "print(\"Test accuracy:\", test_accuracy)\n",
        "\n",
        "# Plot training history\n",
        "plt.plot(history.history['accuracy'], label='Training Accuracy')\n",
        "plt.plot(history.history['val_accuracy'], label='Validation Accuracy')\n",
        "plt.title('Training and Validation Accuracy')\n",
        "plt.xlabel('Epoch')\n",
        "plt.ylabel('Accuracy')\n",
        "plt.legend()\n",
        "plt.show()"
      ],
      "metadata": {
        "colab": {
          "base_uri": "https://localhost:8080/",
          "height": 1000
        },
        "id": "_BIyOQVkNLmG",
        "outputId": "cef5c0ea-2ae7-4fa4-86be-a4cdd7313dc8"
      },
      "execution_count": 2,
      "outputs": [
        {
          "output_type": "stream",
          "name": "stdout",
          "text": [
            "Epoch 1/20\n",
            "422/422 [==============================] - 4s 8ms/step - loss: 0.4913 - accuracy: 0.8573 - val_loss: 0.1651 - val_accuracy: 0.9595\n",
            "Epoch 2/20\n",
            "422/422 [==============================] - 3s 6ms/step - loss: 0.2601 - accuracy: 0.9261 - val_loss: 0.1208 - val_accuracy: 0.9677\n",
            "Epoch 3/20\n",
            "422/422 [==============================] - 2s 5ms/step - loss: 0.2158 - accuracy: 0.9368 - val_loss: 0.0997 - val_accuracy: 0.9728\n",
            "Epoch 4/20\n",
            "422/422 [==============================] - 2s 5ms/step - loss: 0.1896 - accuracy: 0.9436 - val_loss: 0.0912 - val_accuracy: 0.9747\n",
            "Epoch 5/20\n",
            "422/422 [==============================] - 2s 5ms/step - loss: 0.1745 - accuracy: 0.9466 - val_loss: 0.0842 - val_accuracy: 0.9750\n",
            "Epoch 6/20\n",
            "422/422 [==============================] - 3s 6ms/step - loss: 0.1592 - accuracy: 0.9517 - val_loss: 0.0807 - val_accuracy: 0.9773\n",
            "Epoch 7/20\n",
            "422/422 [==============================] - 3s 8ms/step - loss: 0.1518 - accuracy: 0.9541 - val_loss: 0.0765 - val_accuracy: 0.9773\n",
            "Epoch 8/20\n",
            "422/422 [==============================] - 2s 5ms/step - loss: 0.1391 - accuracy: 0.9572 - val_loss: 0.0786 - val_accuracy: 0.9770\n",
            "Epoch 9/20\n",
            "422/422 [==============================] - 2s 5ms/step - loss: 0.1361 - accuracy: 0.9576 - val_loss: 0.0739 - val_accuracy: 0.9792\n",
            "Epoch 10/20\n",
            "422/422 [==============================] - 2s 6ms/step - loss: 0.1305 - accuracy: 0.9584 - val_loss: 0.0760 - val_accuracy: 0.9778\n",
            "Epoch 11/20\n",
            "422/422 [==============================] - 3s 6ms/step - loss: 0.1275 - accuracy: 0.9601 - val_loss: 0.0734 - val_accuracy: 0.9805\n",
            "Epoch 12/20\n",
            "422/422 [==============================] - 3s 8ms/step - loss: 0.1245 - accuracy: 0.9615 - val_loss: 0.0724 - val_accuracy: 0.9783\n",
            "Epoch 13/20\n",
            "422/422 [==============================] - 3s 6ms/step - loss: 0.1159 - accuracy: 0.9633 - val_loss: 0.0750 - val_accuracy: 0.9788\n",
            "Epoch 14/20\n",
            "422/422 [==============================] - 2s 5ms/step - loss: 0.1163 - accuracy: 0.9632 - val_loss: 0.0737 - val_accuracy: 0.9777\n",
            "Epoch 15/20\n",
            "422/422 [==============================] - 2s 6ms/step - loss: 0.1097 - accuracy: 0.9652 - val_loss: 0.0705 - val_accuracy: 0.9815\n",
            "Epoch 16/20\n",
            "422/422 [==============================] - 2s 5ms/step - loss: 0.1092 - accuracy: 0.9658 - val_loss: 0.0671 - val_accuracy: 0.9808\n",
            "Epoch 17/20\n",
            "422/422 [==============================] - 3s 6ms/step - loss: 0.1063 - accuracy: 0.9661 - val_loss: 0.0667 - val_accuracy: 0.9793\n",
            "Epoch 18/20\n",
            "422/422 [==============================] - 3s 8ms/step - loss: 0.1039 - accuracy: 0.9664 - val_loss: 0.0688 - val_accuracy: 0.9803\n",
            "Epoch 19/20\n",
            "422/422 [==============================] - 2s 5ms/step - loss: 0.1020 - accuracy: 0.9675 - val_loss: 0.0642 - val_accuracy: 0.9810\n",
            "Epoch 20/20\n",
            "422/422 [==============================] - 2s 5ms/step - loss: 0.1008 - accuracy: 0.9680 - val_loss: 0.0672 - val_accuracy: 0.9807\n",
            "313/313 [==============================] - 1s 3ms/step - loss: 0.0739 - accuracy: 0.9789\n",
            "\n",
            "Test loss: 0.07385525852441788\n",
            "Test accuracy: 0.9789000153541565\n"
          ]
        },
        {
          "output_type": "display_data",
          "data": {
            "text/plain": [
              "<Figure size 640x480 with 1 Axes>"
            ],
            "image/png": "[encoded data removed]"
          },
          "metadata": {}
        }
      ]
    }
  ],
  "metadata": {
    "kernelspec": {
      "display_name": "Python 3",
      "language": "python",
      "name": "python3"
    },
    "language_info": {
      "codemirror_mode": {
        "name": "ipython",
        "version": 3
      },
      "file_extension": ".py",
      "mimetype": "text/x-python",
      "name": "python",
      "nbconvert_exporter": "python",
      "pygments_lexer": "ipython3",
      "version": "3.8.6"
    },
    "colab": {
      "provenance": [],
      "include_colab_link": true
    }
  },
  "nbformat": 4,
  "nbformat_minor": 0
}